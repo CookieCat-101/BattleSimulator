{
 "cells": [
  {
   "cell_type": "markdown",
   "metadata": {},
   "source": [
    "# Advances to Unit and Simulation Composition\n",
    "\n",
    "Throughout these teaching notebooks, we're going to take you step-by-step through the development and considerations we make when producing an simulation software that uses units.\n",
    "\n",
    "In this notebook (**2**) we are going to cover:\n",
    "\n",
    "- **[Modifications to the simulation (adding stopping)](#s1)**\n",
    "- **[Simulating larger groups](#s2)**\n",
    "- **[Packaging positioning assignment](#s3)**\n",
    "\n",
    "Click on any of the links to jump to that section."
   ]
  },
  {
   "cell_type": "code",
   "execution_count": 1,
   "metadata": {},
   "outputs": [],
   "source": [
    "import numpy as np\n",
    "import pandas as pd\n",
    "import matplotlib.pyplot as plt\n",
    "import os\n",
    "import sys\n",
    "\n",
    "sys.path.insert(0, \"../\")\n",
    "%matplotlib inline"
   ]
  },
  {
   "cell_type": "markdown",
   "metadata": {},
   "source": [
    "We import our `battlesim` package locally:"
   ]
  },
  {
   "cell_type": "code",
   "execution_count": 2,
   "metadata": {},
   "outputs": [],
   "source": [
    "import battlesim as bsm"
   ]
  },
  {
   "cell_type": "markdown",
   "metadata": {},
   "source": [
    "## <a id='s1'> Modifications to the simulation\n",
    "\n",
    "If you recall from the previous notebook, we had made a `Unit` class that has an initialization method that basically sets attributes to each Unit:\n",
    "\n",
    "    class Unit(object):\n",
    "        def __init__(self, db, name):\n",
    "            \"\"\"\n",
    "            Defines a unit, based on examples in the 'db' file, given a name. Assumes the name\n",
    "            is the index in db.\n",
    "            \"\"\"\n",
    "            # check that name is in db.index\n",
    "            if not name in db.index:\n",
    "                raise ValueError(\"unit {} must be in {}\".format(name, db.index))\n",
    "            self.name = name\n",
    "            self.hp = db.loc[name, \"HP\"]\n",
    "            self.dmg = db.loc[name, \"Damage\"]\n",
    "            self.range = db.loc[name, \"Range\"]\n",
    "            self.speed = db.loc[name, \"Movement Speed\"]\n",
    "            self.team = db.loc[name, \"allegiance_int\"]\n",
    "            self.team_name = db.loc[name, \"Allegiance\"]\n",
    "\n",
    "            # define position\n",
    "            self.pos = np.array([0., 0.])\n",
    "            # directional derivative from target. \n",
    "            self.dd = np.array([0., 0.])\n",
    "            # distance from target\n",
    "            self.dist = 0.\n",
    "            # define target to aim for\n",
    "            self.target = None\n",
    "            \n",
    "We have defined this within a `legacy` section of the package: which we call `Unit1`:"
   ]
  },
  {
   "cell_type": "code",
   "execution_count": 3,
   "metadata": {},
   "outputs": [
    {
     "data": {
      "text/plain": [
       "battlesim.legacy.Unit1"
      ]
     },
     "execution_count": 3,
     "metadata": {},
     "output_type": "execute_result"
    }
   ],
   "source": [
    "bsm.legacy.Unit1"
   ]
  },
  {
   "cell_type": "markdown",
   "metadata": {},
   "source": [
    "In our previous example, the health bar of the enemies just kept decreasing until we timed out. This is because in our simulation example there is no accounting for this.\n",
    "\n",
    "    def basic_simulation2(units, max_step=50):\n",
    "    t = 0\n",
    "    running = True\n",
    "    \n",
    "    steps = []\n",
    "    \n",
    "    # while loop\n",
    "    while running and t < max_step:\n",
    "        # iterate over units.\n",
    "        for i, u in enumerate(units):\n",
    "            #if we're alive...\n",
    "            if u.hp > 0:\n",
    "                # euclidean distance\n",
    "                u.dd = deriv_norm(u.pos, u.target.pos)\n",
    "                u.dist = euclidean(u.pos, u.target.pos)\n",
    "                # now, if the unit is not in range, then move towards it\n",
    "                if u.dist > u.range:\n",
    "                    # speed modifier added, others ignored from above.\n",
    "                    u.pos += dudt(u.pos, u.target.pos, u.speed)\n",
    "                else:\n",
    "                    # perform damage to enemy health.\n",
    "                    u.target.hp -= u.dmg\n",
    "            \n",
    "            # save\n",
    "            steps.append(deepcopy(units))\n",
    "        t += 1\n",
    "    \n",
    "    return steps\n",
    "    \n",
    "So we need to check after our unit is alive *whether the enemy unit is alive*. Also we have the problem of, what happens once the enemy target is dead - we need to find another enemy to attack! \n",
    "\n",
    "### Assigning random enemies\n",
    "\n",
    "For simplicity, we assign each unit a random enemy, as:\n",
    "\n",
    "\\begin{align}\n",
    "T_i \\sim \\mathcal{U}(0, N_j-1)\n",
    "\\end{align}\n",
    "\n",
    "where $T_i$ is the index of the $j$th target for unit $i$, within the $N$-space of the enemies. $\\mathcal{U}$ refers to the uniform distribution, in the sense that there is an *equal chance that any enemy can be picked*.\n",
    "\n",
    "To do this we'll write a function `find_random_enemy()` that, given a unit and a list of all units, finds a new alive enemy."
   ]
  },
  {
   "cell_type": "code",
   "execution_count": 4,
   "metadata": {},
   "outputs": [],
   "source": [
    "import random\n",
    "from copy import deepcopy"
   ]
  },
  {
   "cell_type": "code",
   "execution_count": 5,
   "metadata": {},
   "outputs": [],
   "source": [
    "def find_random_enemy(u, units):\n",
    "    \"\"\"Where u is the chosen unit, units is a list of all units.\"\"\"\n",
    "    # generate list of alive enemies\n",
    "    alive_enemies = [i for i in units if (i.hp > 0) and (i.team != u.team)]\n",
    "    # hang on, what if there are no alive enemies?\n",
    "    if len(alive_enemies) > 0:\n",
    "        return random.choice(alive_enemies)\n",
    "    else:\n",
    "        return -1"
   ]
  },
  {
   "cell_type": "code",
   "execution_count": 6,
   "metadata": {},
   "outputs": [],
   "source": [
    "def basic_simulation3(units, max_step=50):\n",
    "    t = 0\n",
    "    running = True\n",
    "    \n",
    "    steps = []\n",
    "    \n",
    "    # while loop\n",
    "    while running and t < max_step:\n",
    "        # iterate over units.\n",
    "        for i, u in enumerate(units):\n",
    "            #if we're alive...\n",
    "            if u.hp > 0:\n",
    "                \n",
    "                # wait a second. what if our enemy is dead..?\n",
    "                if u.target.hp <= 0.:\n",
    "                    # find a new random enemy.\n",
    "                    target = find_random_enemy(u, units)\n",
    "                    if target != -1:\n",
    "                        u.target = target\n",
    "                    else:\n",
    "                        # no more enemies - stop!\n",
    "                        running = False\n",
    "                        \n",
    "                \"\"\"Only do all this once we have a valid target...\"\"\"\n",
    "                # euclidean distance\n",
    "                u.dd = bsm.legacy.deriv_norm(u.pos, u.target.pos)\n",
    "                u.dist = bsm.legacy.euclidean(u.pos, u.target.pos)\n",
    "                # now, if the unit is not in range, then move towards it\n",
    "                if u.dist > u.range:\n",
    "                    # speed modifier added, others ignored from above.\n",
    "                    u.pos += bsm.legacy.dudt(u.pos, u.target.pos, u.speed)\n",
    "                else:\n",
    "                    # perform damage to enemy health.\n",
    "                    u.target.hp -= u.dmg\n",
    "            \n",
    "            # save\n",
    "            steps.append(deepcopy(units))\n",
    "        t += 1\n",
    "    \n",
    "    return steps"
   ]
  },
  {
   "cell_type": "markdown",
   "metadata": {},
   "source": [
    "### Defining basics again - making units and getting db access."
   ]
  },
  {
   "cell_type": "code",
   "execution_count": 7,
   "metadata": {},
   "outputs": [],
   "source": [
    "db_ = bsm.legacy.import_db_file(\"../datasets/starwars-clonewars.csv\")"
   ]
  },
  {
   "cell_type": "code",
   "execution_count": 8,
   "metadata": {},
   "outputs": [],
   "source": [
    "# define units.\n",
    "u1 = bsm.legacy.Unit1(db_, \"Clone Trooper\")\n",
    "u2 = bsm.legacy.Unit1(db_, \"B1 battledroid\")\n",
    "u3 = bsm.legacy.Unit1(db_, \"Clone Trooper\")\n",
    "u4 = bsm.legacy.Unit1(db_, \"B1 battledroid\")\n",
    "\n",
    "u1.pos = np.array([-5., 5.])\n",
    "u3.pos = np.array([5., 5.])\n",
    "\n",
    "u1.target = u2\n",
    "u3.target = u4\n",
    "u2.target = u1\n",
    "u4.target = u3"
   ]
  },
  {
   "cell_type": "markdown",
   "metadata": {},
   "source": [
    "### Simulate using new simulation\n",
    "\n",
    "Here we see a marked difference in the simulation - only 28 timesteps instead of 100!!"
   ]
  },
  {
   "cell_type": "code",
   "execution_count": 9,
   "metadata": {},
   "outputs": [],
   "source": [
    "Res = basic_simulation3([u1, u2, u3, u4])\n",
    "pos = bsm.legacy.extract_pos(Res,4)\n",
    "dpos = bsm.legacy.extract_dpos(Res,4)\n",
    "H_p = bsm.legacy.extract_hp(Res,4)"
   ]
  },
  {
   "cell_type": "code",
   "execution_count": 10,
   "metadata": {},
   "outputs": [
    {
     "data": {
      "text/plain": [
       "(28, 2, 4)"
      ]
     },
     "execution_count": 10,
     "metadata": {},
     "output_type": "execute_result"
    }
   ],
   "source": [
    "pos.shape"
   ]
  },
  {
   "cell_type": "code",
   "execution_count": 11,
   "metadata": {},
   "outputs": [
    {
     "data": {
      "text/plain": [
       "28"
      ]
     },
     "execution_count": 11,
     "metadata": {},
     "output_type": "execute_result"
    }
   ],
   "source": [
    "len(Res)"
   ]
  },
  {
   "cell_type": "markdown",
   "metadata": {},
   "source": [
    "And we'll write a function `plot_quiver` for convenience whenever we which to see the movement of the units."
   ]
  },
  {
   "cell_type": "code",
   "execution_count": 12,
   "metadata": {},
   "outputs": [],
   "source": [
    "def plot_quiver(pos, dpos):\n",
    "    for i in range(pos.shape[-1]):\n",
    "        plt.scatter(pos[:, 0, i], pos[:, 1, i])\n",
    "        plt.quiver(pos[:, 0, i], pos[:, 1, i], dpos[:, 0, i], dpos[:, 1, i])\n",
    "\n",
    "    plt.xlabel(\"x\")\n",
    "    plt.ylabel(\"y\")\n",
    "    plt.show()"
   ]
  },
  {
   "cell_type": "code",
   "execution_count": 13,
   "metadata": {
    "scrolled": true
   },
   "outputs": [
    {
     "data": {
      "image/png": "[encoded data removed]",
      "text/plain": [
       "<Figure size 432x288 with 1 Axes>"
      ]
     },
     "metadata": {
      "needs_background": "light"
     },
     "output_type": "display_data"
    }
   ],
   "source": [
    "plot_quiver(pos, dpos)"
   ]
  },
  {
   "cell_type": "markdown",
   "metadata": {},
   "source": [
    "And plotting the health change among the units - it's considerably more controlled - no more extreme negative numbers."
   ]
  },
  {
   "cell_type": "code",
   "execution_count": 14,
   "metadata": {},
   "outputs": [],
   "source": [
    "def plot_hp(HP):\n",
    "    for i, x in enumerate(HP):\n",
    "        plt.plot(x, alpha=.5)\n",
    "    plt.xlabel(\"time\")\n",
    "    plt.ylabel(\"HP\")\n",
    "    plt.show()"
   ]
  },
  {
   "cell_type": "code",
   "execution_count": 15,
   "metadata": {},
   "outputs": [
    {
     "data": {
      "image/png": "[encoded data removed]",
      "text/plain": [
       "<Figure size 432x288 with 1 Axes>"
      ]
     },
     "metadata": {
      "needs_background": "light"
     },
     "output_type": "display_data"
    }
   ],
   "source": [
    "plot_hp(H_p)"
   ]
  },
  {
   "cell_type": "markdown",
   "metadata": {},
   "source": [
    "## <a id='s2'> Simulating larger groups\n",
    "\n",
    "It's interesting to see what happens to 4 units, but what about if I want 40? How do the behaviors change within the units once we factor in these intra-dynamics?\n",
    "\n",
    "Here we will create 2 groups using *list comprehensions*, assign a random location to each group using a **Gaussian distribution** and then begin the simulation again.\n",
    "\n",
    "### Gaussian distribution\n",
    "\n",
    "A gaussian or normal distribution is a common continuous probability that can be used to represent real-valued random variables. Informally known as the bell-curve, it is described as:\n",
    "\n",
    "\\begin{align}\n",
    "f(x|\\mu, \\sigma^2)=\\frac{1}{\\sqrt{2 \\pi \\sigma^2}} e^{-\\frac{(x-\\mu)^2}{2 \\sigma^2}}\n",
    "\\end{align}\n",
    "\n",
    "where $\\mu$ is the mean or expectation, $\\sigma^2$ is the variance. A special case exists where $f(x|0, 1)$, known as the standard normal distribution:\n",
    "\n",
    "\\begin{align}\n",
    "f(x|0, 1)=\\frac{1}{\\sqrt{2 \\pi}}e^{-\\frac{1}{2}x^2}\n",
    "\\end{align}\n",
    "\n",
    "### Sampling from a Gaussian distribution\n",
    "\n",
    "The normal distribution is often referred to as $\\mathcal{N}(\\mu, \\sigma^2)$. Thus our position coordinates $\\mathbf{u}$ can be initialized as:\n",
    "\n",
    "\\begin{align}\n",
    "\\mathbf{u} \\sim \\mathcal{N}(\\mu, \\sigma^2)\n",
    "\\end{align}\n",
    "\n",
    "Separate $\\mu$ and $\\sigma^2$ can be given to each dimension in $\\mathbf{u}$ if you want the distribution to lie off of the $x=y$ axis. All of this is achieved using the `np.random.normal` function, specifying $\\mu$, $\\sigma^2$, and a sample size $n$."
   ]
  },
  {
   "cell_type": "code",
   "execution_count": 16,
   "metadata": {},
   "outputs": [],
   "source": [
    "group1 = [bsm.legacy.Unit1(db_, \"Clone Trooper\") for i in range(20)]\n",
    "group2 = [bsm.legacy.Unit1(db_, \"B1 battledroid\") for i in range(20)]"
   ]
  },
  {
   "cell_type": "markdown",
   "metadata": {},
   "source": [
    "Apply gauss distribution to the positions:"
   ]
  },
  {
   "cell_type": "code",
   "execution_count": 17,
   "metadata": {},
   "outputs": [],
   "source": [
    "for u in group1:\n",
    "    u.pos = np.random.normal(loc=0, scale=1, size=(2,))\n",
    "for u in group2:\n",
    "    u.pos = np.random.normal(loc=10, scale=1, size=(2,))"
   ]
  },
  {
   "cell_type": "markdown",
   "metadata": {},
   "source": [
    "### Assigning each unit a *random* enemy\n",
    "\n",
    "Assign each unit a random enemy target using our previously defined function."
   ]
  },
  {
   "cell_type": "code",
   "execution_count": 18,
   "metadata": {},
   "outputs": [],
   "source": [
    "for u in group1:\n",
    "    u.target = find_random_enemy(u, group2)\n",
    "for u in group2:\n",
    "    u.target = find_random_enemy(u, group1)"
   ]
  },
  {
   "cell_type": "code",
   "execution_count": 19,
   "metadata": {},
   "outputs": [],
   "source": [
    "Res = basic_simulation3(group1 + group2)\n",
    "pos = bsm.legacy.extract_pos(Res,40)\n",
    "dpos = bsm.legacy.extract_dpos(Res,40)\n",
    "H_p = bsm.legacy.extract_hp(Res,40)"
   ]
  },
  {
   "cell_type": "code",
   "execution_count": 20,
   "metadata": {},
   "outputs": [
    {
     "data": {
      "image/png": "[encoded data removed]",
      "text/plain": [
       "<Figure size 432x288 with 1 Axes>"
      ]
     },
     "metadata": {
      "needs_background": "light"
     },
     "output_type": "display_data"
    }
   ],
   "source": [
    "plot_quiver(pos, dpos)"
   ]
  },
  {
   "cell_type": "code",
   "execution_count": 21,
   "metadata": {},
   "outputs": [
    {
     "data": {
      "image/png": "[encoded data removed]",
      "text/plain": [
       "<Figure size 432x288 with 1 Axes>"
      ]
     },
     "metadata": {
      "needs_background": "light"
     },
     "output_type": "display_data"
    }
   ],
   "source": [
    "plot_hp(H_p)"
   ]
  },
  {
   "cell_type": "markdown",
   "metadata": {},
   "source": [
    "## <a id='s3'> Packaging position and enemy assignment\n",
    "\n",
    "Of course we could decide that we want to manually assign all of this beforehand, but it's far nicer to call one function, saying how many units we want to create, with what position, and some method of saying, \"Just choose a random enemy please\".\n",
    "\n",
    "To do this, we will create a new function `create_unit_group` to do exactly this.\n",
    "\n",
    "In addition to this, once we have created all of the units, we want to **randomly assign enemies** to each unit, which we can do by passing a list of every unit, and relying on the flags associated in each `Unit` object to identify teams."
   ]
  },
  {
   "cell_type": "code",
   "execution_count": 64,
   "metadata": {},
   "outputs": [],
   "source": [
    "def create_unit_group(df, u_type, n, pos_params):\n",
    "    \"\"\"\n",
    "    Given a unit type, database, n sample and position params, create a unit group blob \n",
    "    using gaussian.\n",
    "    \n",
    "    pos_params should be a tuple (2,) for mean and var.\n",
    "    \n",
    "    we cannot however assign enemies without a list to draw from, so this might have\n",
    "    to be assigned after this function.\n",
    "    \"\"\"\n",
    "    \n",
    "    units = [bsm.legacy.Unit1(df, u_type) for i in range(n)]\n",
    "    for u in units:\n",
    "        u.pos = np.random.normal(*pos_params, size=(2,))\n",
    "    return units"
   ]
  },
  {
   "cell_type": "code",
   "execution_count": 65,
   "metadata": {},
   "outputs": [],
   "source": [
    "group1 = create_unit_group(db_, \"Clone Trooper\", 20, (0., 1.))\n",
    "group2 = create_unit_group(db_, \"B1 battledroid\", 20, (10., 1.))"
   ]
  },
  {
   "cell_type": "markdown",
   "metadata": {},
   "source": [
    "### Enemy assignment to all groups"
   ]
  },
  {
   "cell_type": "code",
   "execution_count": 66,
   "metadata": {},
   "outputs": [],
   "source": [
    "def assign_enemies(units):\n",
    "    # get team ids\n",
    "    for u in units:\n",
    "        u.target = find_random_enemy(u, units)"
   ]
  },
  {
   "cell_type": "code",
   "execution_count": 67,
   "metadata": {},
   "outputs": [],
   "source": [
    "assign_enemies(group1+group2)"
   ]
  },
  {
   "cell_type": "markdown",
   "metadata": {},
   "source": [
    "And now we re-run the simulation:"
   ]
  },
  {
   "cell_type": "code",
   "execution_count": 69,
   "metadata": {},
   "outputs": [],
   "source": [
    "Res = basic_simulation3(group1+group2)\n",
    "\n",
    "pos = bsm.legacy.extract_pos(Res,40)\n",
    "dpos = bsm.legacy.extract_dpos(Res,40)\n",
    "H_p = bsm.legacy.extract_hp(Res,40)"
   ]
  },
  {
   "cell_type": "code",
   "execution_count": 70,
   "metadata": {},
   "outputs": [
    {
     "data": {
      "image/png": "[encoded data removed]",
      "text/plain": [
       "<Figure size 432x288 with 1 Axes>"
      ]
     },
     "metadata": {
      "needs_background": "light"
     },
     "output_type": "display_data"
    }
   ],
   "source": [
    "plot_quiver(pos, dpos)"
   ]
  },
  {
   "cell_type": "code",
   "execution_count": 71,
   "metadata": {},
   "outputs": [
    {
     "data": {
      "image/png": "[encoded data removed]",
      "text/plain": [
       "<Figure size 432x288 with 1 Axes>"
      ]
     },
     "metadata": {
      "needs_background": "light"
     },
     "output_type": "display_data"
    }
   ],
   "source": [
    "plot_hp(H_p)"
   ]
  },
  {
   "cell_type": "markdown",
   "metadata": {},
   "source": [
    "We won't cover any more in this notebook - we mainly rehash ideas discussed in the previous notebook; however the next work is a serious step up from where we currently are."
   ]
  }
 ],
 "metadata": {
  "kernelspec": {
   "display_name": "Python 3",
   "language": "python",
   "name": "python3"
  },
  "language_info": {
   "codemirror_mode": {
    "name": "ipython",
    "version": 3
   },
   "file_extension": ".py",
   "mimetype": "text/x-python",
   "name": "python",
   "nbconvert_exporter": "python",
   "pygments_lexer": "ipython3",
   "version": "3.7.4"
  },
  "pycharm": {
   "stem_cell": {
    "cell_type": "raw",
    "source": [],
    "metadata": {
     "collapsed": false
    }
   }
  }
 },
 "nbformat": 4,
 "nbformat_minor": 4
}