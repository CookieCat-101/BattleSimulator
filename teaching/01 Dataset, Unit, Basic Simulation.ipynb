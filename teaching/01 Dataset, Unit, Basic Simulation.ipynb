{
 "cells": [
  {
   "cell_type": "markdown",
   "metadata": {},
   "source": [
    "# Basics to BattleSimulation\n",
    "\n",
    "Throughout these teaching notebooks, we're going to take you step-by-step through the development and considerations we make when producing an simulation software that uses units.\n",
    "\n",
    "In this notebook (**1**) we are going to cover:\n",
    "\n",
    "- **[Creating a Dataset of Units](#c1)**\n",
    "- **[Implementations of the Simulation](#c2)**\n",
    "- **[Defining euclidean distance](#c3)**\n",
    "- **[Defining the directional derivative](#c4)**\n",
    "- **[Defining movement of units](#c5)**\n",
    "- **[Defining the simulation](#c6)**\n",
    "- **[Post-simulation analysis](#c7)**\n",
    "\n",
    "Click on any of the links to jump to that section."
   ]
  },
  {
   "cell_type": "code",
   "execution_count": 1,
   "metadata": {},
   "outputs": [],
   "source": [
    "import numpy as np\n",
    "import pandas as pd\n",
    "import matplotlib.pyplot as plt\n",
    "import os\n",
    "%matplotlib inline"
   ]
  },
  {
   "cell_type": "markdown",
   "metadata": {},
   "source": [
    "## <a id='c1'> Creating a Dataset of Units\n",
    "\n",
    "The basic building block of this project is the `Unit`. Units have a number of attributes to them which we make subject to the simulation software in order to manipulate their position, health, armor, range, damage etc, in order for a certain team to win.\n",
    "\n",
    "In most of these examples, we draw from the Clone Wars as inspiration as a fight between the Clones and the Droids/Separatists:\n",
    "\n",
    "| Name | Team | HP | Range | Damage |\n",
    "| --------------- | ------------- | ----- |--------- |------ |\n",
    "| Clone trooper | Republic | 35 | 3 | 16 |\n",
    "| B1 battledroid | CIS | 20 | 2.5 | 15 | \n",
    "| ... | ... | ... | ... | ... |\n",
    "| Magmaguard | CIS | 200 | 0.4 | 200 |\n",
    "\n",
    "Once we have this dataset of stats, we can infer the properties mentioned above.\n",
    "\n",
    "### Utility code\n",
    "\n",
    "First of all we have a few utility functions for handling common situations."
   ]
  },
  {
   "cell_type": "code",
   "execution_count": 2,
   "metadata": {},
   "outputs": [],
   "source": [
    "def check_columns(df, list_of_columns):\n",
    "    for l in list_of_columns:\n",
    "        if l not in df.columns:\n",
    "            raise ValueError(\"column '{}' not found in dataframe.\".format(l))"
   ]
  },
  {
   "cell_type": "markdown",
   "metadata": {},
   "source": [
    "### Loading in the dataset\n",
    "\n",
    "For this, we set a template of what the file should look like before we import it. This makes sure that the simulation code can be confident that the variables described actually exist."
   ]
  },
  {
   "cell_type": "code",
   "execution_count": 3,
   "metadata": {},
   "outputs": [],
   "source": [
    "accepted_db_columns = [\n",
    "    \"Name\", \"Allegiance\", \"HP\", \"Damage\", \"Accuracy\",\n",
    "    \"Miss\", \"Movement Speed\", \"Range\"\n",
    "]"
   ]
  },
  {
   "cell_type": "code",
   "execution_count": 4,
   "metadata": {},
   "outputs": [],
   "source": [
    "def import_db_file(fpath):\n",
    "    \"\"\"\n",
    "    Imports our dataset of information, given a file path.\n",
    "    \"\"\"\n",
    "    if not os.path.isfile(fpath):\n",
    "        raise IOError(\"fpath does not exist.\")\n",
    "    # attempt to read in\n",
    "    df = pd.read_csv(fpath)\n",
    "    # check columns exist\n",
    "    check_columns(df, accepted_db_columns)\n",
    "    df.set_index(\"Name\", inplace=True)\n",
    "    # assign an integer to allegiance\n",
    "    df[\"allegiance_int\"] = pd.factorize(df[\"Allegiance\"])[0]\n",
    "    return df"
   ]
  },
  {
   "cell_type": "code",
   "execution_count": 5,
   "metadata": {},
   "outputs": [
    {
     "data": {
      "text/html": [
       "<div>\n",
       "<style scoped>\n",
       "    .dataframe tbody tr th:only-of-type {\n",
       "        vertical-align: middle;\n",
       "    }\n",
       "\n",
       "    .dataframe tbody tr th {\n",
       "        vertical-align: top;\n",
       "    }\n",
       "\n",
       "    .dataframe thead th {\n",
       "        text-align: right;\n",
       "    }\n",
       "</style>\n",
       "<table border=\"1\" class=\"dataframe\">\n",
       "  <thead>\n",
       "    <tr style=\"text-align: right;\">\n",
       "      <th></th>\n",
       "      <th>Allegiance</th>\n",
       "      <th>Type</th>\n",
       "      <th>Armor</th>\n",
       "      <th>HP</th>\n",
       "      <th>Damage</th>\n",
       "      <th>Dmg Speed</th>\n",
       "      <th>Range</th>\n",
       "      <th>Movement Speed</th>\n",
       "      <th>Accuracy</th>\n",
       "      <th>Miss</th>\n",
       "      <th>Shield</th>\n",
       "      <th>Shield Regen</th>\n",
       "      <th>allegiance_int</th>\n",
       "    </tr>\n",
       "    <tr>\n",
       "      <th>Name</th>\n",
       "      <th></th>\n",
       "      <th></th>\n",
       "      <th></th>\n",
       "      <th></th>\n",
       "      <th></th>\n",
       "      <th></th>\n",
       "      <th></th>\n",
       "      <th></th>\n",
       "      <th></th>\n",
       "      <th></th>\n",
       "      <th></th>\n",
       "      <th></th>\n",
       "      <th></th>\n",
       "    </tr>\n",
       "  </thead>\n",
       "  <tbody>\n",
       "    <tr>\n",
       "      <td>Local Militia</td>\n",
       "      <td>Republic</td>\n",
       "      <td>Standard</td>\n",
       "      <td>15</td>\n",
       "      <td>20</td>\n",
       "      <td>10</td>\n",
       "      <td>1.00</td>\n",
       "      <td>2.0</td>\n",
       "      <td>0.6</td>\n",
       "      <td>5</td>\n",
       "      <td>30</td>\n",
       "      <td>0</td>\n",
       "      <td>0.00</td>\n",
       "      <td>0</td>\n",
       "    </tr>\n",
       "    <tr>\n",
       "      <td>B1 battledroid</td>\n",
       "      <td>CIS</td>\n",
       "      <td>Standard</td>\n",
       "      <td>35</td>\n",
       "      <td>20</td>\n",
       "      <td>15</td>\n",
       "      <td>1.00</td>\n",
       "      <td>2.5</td>\n",
       "      <td>0.5</td>\n",
       "      <td>30</td>\n",
       "      <td>35</td>\n",
       "      <td>0</td>\n",
       "      <td>0.00</td>\n",
       "      <td>1</td>\n",
       "    </tr>\n",
       "    <tr>\n",
       "      <td>Clone Trooper</td>\n",
       "      <td>Republic</td>\n",
       "      <td>Standard</td>\n",
       "      <td>50</td>\n",
       "      <td>35</td>\n",
       "      <td>16</td>\n",
       "      <td>1.20</td>\n",
       "      <td>3.0</td>\n",
       "      <td>0.7</td>\n",
       "      <td>65</td>\n",
       "      <td>75</td>\n",
       "      <td>0</td>\n",
       "      <td>0.00</td>\n",
       "      <td>0</td>\n",
       "    </tr>\n",
       "    <tr>\n",
       "      <td>B2 battledroid</td>\n",
       "      <td>CIS</td>\n",
       "      <td>Standard</td>\n",
       "      <td>100</td>\n",
       "      <td>40</td>\n",
       "      <td>20</td>\n",
       "      <td>1.20</td>\n",
       "      <td>3.5</td>\n",
       "      <td>0.4</td>\n",
       "      <td>70</td>\n",
       "      <td>40</td>\n",
       "      <td>0</td>\n",
       "      <td>0.00</td>\n",
       "      <td>1</td>\n",
       "    </tr>\n",
       "    <tr>\n",
       "      <td>ARC Trooper</td>\n",
       "      <td>Republic</td>\n",
       "      <td>Elite</td>\n",
       "      <td>100</td>\n",
       "      <td>100</td>\n",
       "      <td>20</td>\n",
       "      <td>0.90</td>\n",
       "      <td>5.0</td>\n",
       "      <td>1.0</td>\n",
       "      <td>90</td>\n",
       "      <td>95</td>\n",
       "      <td>0</td>\n",
       "      <td>0.00</td>\n",
       "      <td>0</td>\n",
       "    </tr>\n",
       "    <tr>\n",
       "      <td>BX-series droid commando</td>\n",
       "      <td>CIS</td>\n",
       "      <td>Elite</td>\n",
       "      <td>70</td>\n",
       "      <td>50</td>\n",
       "      <td>22</td>\n",
       "      <td>1.30</td>\n",
       "      <td>7.0</td>\n",
       "      <td>0.8</td>\n",
       "      <td>70</td>\n",
       "      <td>95</td>\n",
       "      <td>0</td>\n",
       "      <td>0.00</td>\n",
       "      <td>1</td>\n",
       "    </tr>\n",
       "    <tr>\n",
       "      <td>Clone Sharpshooter</td>\n",
       "      <td>Republic</td>\n",
       "      <td>Specialist</td>\n",
       "      <td>50</td>\n",
       "      <td>40</td>\n",
       "      <td>50</td>\n",
       "      <td>0.20</td>\n",
       "      <td>15.0</td>\n",
       "      <td>0.2</td>\n",
       "      <td>60</td>\n",
       "      <td>40</td>\n",
       "      <td>0</td>\n",
       "      <td>0.00</td>\n",
       "      <td>0</td>\n",
       "    </tr>\n",
       "    <tr>\n",
       "      <td>Battle droid assassin</td>\n",
       "      <td>CIS</td>\n",
       "      <td>Specialist</td>\n",
       "      <td>60</td>\n",
       "      <td>20</td>\n",
       "      <td>50</td>\n",
       "      <td>0.15</td>\n",
       "      <td>15.0</td>\n",
       "      <td>0.2</td>\n",
       "      <td>55</td>\n",
       "      <td>45</td>\n",
       "      <td>0</td>\n",
       "      <td>0.00</td>\n",
       "      <td>1</td>\n",
       "    </tr>\n",
       "    <tr>\n",
       "      <td>Clone Commando</td>\n",
       "      <td>Republic</td>\n",
       "      <td>Elite</td>\n",
       "      <td>100</td>\n",
       "      <td>120</td>\n",
       "      <td>20</td>\n",
       "      <td>1.50</td>\n",
       "      <td>3.0</td>\n",
       "      <td>0.9</td>\n",
       "      <td>97</td>\n",
       "      <td>97</td>\n",
       "      <td>30</td>\n",
       "      <td>0.20</td>\n",
       "      <td>0</td>\n",
       "    </tr>\n",
       "    <tr>\n",
       "      <td>T-series Tactical Droid</td>\n",
       "      <td>CIS</td>\n",
       "      <td>Elite</td>\n",
       "      <td>200</td>\n",
       "      <td>50</td>\n",
       "      <td>22</td>\n",
       "      <td>1.50</td>\n",
       "      <td>3.0</td>\n",
       "      <td>0.7</td>\n",
       "      <td>95</td>\n",
       "      <td>90</td>\n",
       "      <td>100</td>\n",
       "      <td>0.18</td>\n",
       "      <td>1</td>\n",
       "    </tr>\n",
       "    <tr>\n",
       "      <td>Magmaguard</td>\n",
       "      <td>CIS</td>\n",
       "      <td>Elite</td>\n",
       "      <td>400</td>\n",
       "      <td>200</td>\n",
       "      <td>200</td>\n",
       "      <td>0.15</td>\n",
       "      <td>0.4</td>\n",
       "      <td>0.4</td>\n",
       "      <td>100</td>\n",
       "      <td>40</td>\n",
       "      <td>0</td>\n",
       "      <td>NaN</td>\n",
       "      <td>1</td>\n",
       "    </tr>\n",
       "  </tbody>\n",
       "</table>\n",
       "</div>"
      ],
      "text/plain": [
       "                         Allegiance        Type  Armor   HP  Damage  \\\n",
       "Name                                                                  \n",
       "Local Militia              Republic    Standard     15   20      10   \n",
       "B1 battledroid                  CIS    Standard     35   20      15   \n",
       "Clone Trooper              Republic    Standard     50   35      16   \n",
       "B2 battledroid                  CIS    Standard    100   40      20   \n",
       "ARC Trooper                Republic       Elite    100  100      20   \n",
       "BX-series droid commando        CIS       Elite     70   50      22   \n",
       "Clone Sharpshooter         Republic  Specialist     50   40      50   \n",
       "Battle droid assassin           CIS  Specialist     60   20      50   \n",
       "Clone Commando             Republic       Elite    100  120      20   \n",
       "T-series Tactical Droid         CIS       Elite    200   50      22   \n",
       "Magmaguard                      CIS       Elite    400  200     200   \n",
       "\n",
       "                          Dmg Speed  Range  Movement Speed  Accuracy  Miss  \\\n",
       "Name                                                                         \n",
       "Local Militia                  1.00    2.0             0.6         5    30   \n",
       "B1 battledroid                 1.00    2.5             0.5        30    35   \n",
       "Clone Trooper                  1.20    3.0             0.7        65    75   \n",
       "B2 battledroid                 1.20    3.5             0.4        70    40   \n",
       "ARC Trooper                    0.90    5.0             1.0        90    95   \n",
       "BX-series droid commando       1.30    7.0             0.8        70    95   \n",
       "Clone Sharpshooter             0.20   15.0             0.2        60    40   \n",
       "Battle droid assassin          0.15   15.0             0.2        55    45   \n",
       "Clone Commando                 1.50    3.0             0.9        97    97   \n",
       "T-series Tactical Droid        1.50    3.0             0.7        95    90   \n",
       "Magmaguard                     0.15    0.4             0.4       100    40   \n",
       "\n",
       "                          Shield  Shield Regen  allegiance_int  \n",
       "Name                                                            \n",
       "Local Militia                  0          0.00               0  \n",
       "B1 battledroid                 0          0.00               1  \n",
       "Clone Trooper                  0          0.00               0  \n",
       "B2 battledroid                 0          0.00               1  \n",
       "ARC Trooper                    0          0.00               0  \n",
       "BX-series droid commando       0          0.00               1  \n",
       "Clone Sharpshooter             0          0.00               0  \n",
       "Battle droid assassin          0          0.00               1  \n",
       "Clone Commando                30          0.20               0  \n",
       "T-series Tactical Droid      100          0.18               1  \n",
       "Magmaguard                     0           NaN               1  "
      ]
     },
     "execution_count": 5,
     "metadata": {},
     "output_type": "execute_result"
    }
   ],
   "source": [
    "db_ = import_db_file(\"../datasets/starwars-clonewars.csv\")\n",
    "db_"
   ]
  },
  {
   "cell_type": "markdown",
   "metadata": {},
   "source": [
    "## <a id='c2'> Implementations of the Simulation\n",
    "\n",
    "Given these data values, we need to think of a way to construct a system that can create 'instances' of each Unit and simulate their movement, health etc. There are a number of approaches one could take:\n",
    "\n",
    "1. An **object-orientated approach**. This involves creating a `Unit` object class which is instantiated, contains every units' health, movement, etc. This 'list of Units' is then passed to a given simulation function to run.\n",
    "2. A **matrix-orientated approach**. This involves creating a $N\\times P$ matrix where $N$ is the number of units and $P$ is the number of features or Unit attributes. This Matrix is then used to perform dynamic changes to the unit in time.\n",
    "\n",
    "### Approach 1. `Unit` class\n",
    "\n",
    "Below is an implementation of an example `Unit` class."
   ]
  },
  {
   "cell_type": "code",
   "execution_count": 6,
   "metadata": {},
   "outputs": [],
   "source": [
    "class Unit(object):\n",
    "    def __init__(self, db, name):\n",
    "        \"\"\"\n",
    "        Defines a unit, based on examples in the 'db' file, given a name. Assumes the name\n",
    "        is the index in db.\n",
    "        \"\"\"\n",
    "        # check that name is in db.index\n",
    "        if not name in db.index:\n",
    "            raise ValueError(\"unit {} must be in {}\".format(name, db.index))\n",
    "        self.name = name\n",
    "        self.hp = db.loc[name, \"HP\"]\n",
    "        self.dmg = db.loc[name, \"Damage\"]\n",
    "        self.range = db.loc[name, \"Range\"]\n",
    "        self.speed = db.loc[name, \"Movement Speed\"]\n",
    "        self.team = db.loc[name, \"allegiance_int\"]\n",
    "        self.team_name = db.loc[name, \"Allegiance\"]\n",
    "        \n",
    "        # define position\n",
    "        self.pos = np.array([0., 0.])\n",
    "        # directional derivative from target. \n",
    "        self.dd = np.array([0., 0.])\n",
    "        # distance from target\n",
    "        self.dist = 0.\n",
    "        # define target to aim for\n",
    "        self.target = None"
   ]
  },
  {
   "cell_type": "markdown",
   "metadata": {},
   "source": [
    "And so from this, we can create units like so:"
   ]
  },
  {
   "cell_type": "code",
   "execution_count": 7,
   "metadata": {},
   "outputs": [
    {
     "data": {
      "text/plain": [
       "'Clone Trooper'"
      ]
     },
     "execution_count": 7,
     "metadata": {},
     "output_type": "execute_result"
    }
   ],
   "source": [
    "u1 = Unit(db_, \"Clone Trooper\")\n",
    "u1.name"
   ]
  },
  {
   "cell_type": "markdown",
   "metadata": {},
   "source": [
    "Of course, we need to set the position of this unit, which we can do to override the `unit.pos` attribute:"
   ]
  },
  {
   "cell_type": "code",
   "execution_count": 8,
   "metadata": {},
   "outputs": [],
   "source": [
    "u1.pos = np.array([5., 5.])"
   ]
  },
  {
   "cell_type": "markdown",
   "metadata": {},
   "source": [
    "We'll create another `Unit` of the enemy team:"
   ]
  },
  {
   "cell_type": "code",
   "execution_count": 9,
   "metadata": {},
   "outputs": [
    {
     "data": {
      "text/plain": [
       "'B1 battledroid'"
      ]
     },
     "execution_count": 9,
     "metadata": {},
     "output_type": "execute_result"
    }
   ],
   "source": [
    "u2 = Unit(db_, \"B1 battledroid\")\n",
    "u2.name"
   ]
  },
  {
   "cell_type": "markdown",
   "metadata": {},
   "source": [
    "### Setting targets\n",
    "\n",
    "These units have to be set as each other in terms of the `unit.target` attribute:"
   ]
  },
  {
   "cell_type": "code",
   "execution_count": 10,
   "metadata": {},
   "outputs": [],
   "source": [
    "u1.target = u2\n",
    "u2.target = u1"
   ]
  },
  {
   "cell_type": "markdown",
   "metadata": {},
   "source": [
    "### <a id='c3'> Defining euclidean distance function\n",
    "\n",
    "In order to move the units in 2D space, we have to define how far units are from each other when it comes to calculating whether they are in range to strike. This is determined by the positions and the `range` parameter given to each unit type.\n",
    "\n",
    "The euclidean distance is defined mathematically as:\n",
    "\n",
    "$$\n",
    "d(\\textbf{p}, \\textbf{q}) = d(\\textbf{q}, \\textbf{p}) = \\sqrt{(q_1 - p_1)^2 + (q_2 - p_2)^2 + \\dots + (q_n - p_n)^2} = \\sqrt{\\sum_{i=1}^n \\left(q_i - p_i \\right)^2}\n",
    "$$\n",
    "\n",
    "where $n$ refers to the number of dimensions. Contrasted to the **magnitude** of a vector, which measures it's length:\n",
    "\n",
    "$$\n",
    "||\\textbf{p}||=\\sqrt{p_1^2 + p_2^2 + \\dots + p_n^2} = \\sqrt{\\textbf{p} \\cdot \\textbf{p}}\n",
    "$$"
   ]
  },
  {
   "cell_type": "code",
   "execution_count": 11,
   "metadata": {},
   "outputs": [],
   "source": [
    "def euclidean(u_i, u_j):\n",
    "    \"\"\"where x and y are np.array(2,) objects\"\"\"\n",
    "    return np.sqrt(np.sum(np.square(u_i - u_j)))\n",
    "\n",
    "\n",
    "def magnitude(p):\n",
    "    return np.sqrt(np.dot(p, p))"
   ]
  },
  {
   "cell_type": "markdown",
   "metadata": {},
   "source": [
    "### <a id='c4'> Defining directional derivative\n",
    "\n",
    "The directional derivative $\\nabla_{\\textbf{u}} f(x_0, y_0)$ is the rate at which the function $f(x, y)$ changes at a point $(x_0, y_0)$ in the direction $\\textbf{u}$. It is defined as:\n",
    "\n",
    "$$\n",
    "\\begin{align}\n",
    "\\nabla_{\\mathbf{u}} f \\equiv \\nabla f \\cdot \\frac{\\mathbf{u}}{|\\mathbf{u}|} \\\\\n",
    "= \\lim_{h \\to 0} \\frac{f(\\mathbf{x} + h \\, \\hat{\\mathbf{u}}) - f(\\mathbf{x})}{h}\n",
    "\\end{align}\n",
    "$$\n",
    "\n",
    "where $\\mathbf{u}=[\\mathbf{x}, \\mathbf{y}]$. In our case, within *Euclidean space*, the directional derivative is respective to the vector $\\mathbf{v}$ after normalization, so it's independent of it's magnitude and depends only on the direction.\n",
    "\n",
    "### The normalized derivative\n",
    "\n",
    "Since we exclude the magnitude from our calculation; we normalize for it:\n",
    "\n",
    "$$\n",
    "\\Delta \\mathbf{u}_{i}^{\\text{norm}}(\\mathbf{u_i},\\mathbf{u}_j)=\\frac{\\mathbf{u}_j - \\mathbf{u}_i}{||\\mathbf{u}_i - \\mathbf{u}_j||}\n",
    "$$\n",
    "\n",
    "This is essentially the *negative normalized direction* of the unit. We make it negative such that the unit moves *towards* the enemy rather than away. Note that it is **essential** that $\\mathbf{u}_j - \\mathbf{u}_i$ rather than $\\mathbf{u}_i - \\mathbf{u}_j$, otherwise the unit will move in the *other direction away from the target*."
   ]
  },
  {
   "cell_type": "code",
   "execution_count": 12,
   "metadata": {},
   "outputs": [],
   "source": [
    "def deriv_norm(u_i, u_j):\n",
    "    return (u_j - u_i) / euclidean(u_i, u_j)"
   ]
  },
  {
   "cell_type": "markdown",
   "metadata": {},
   "source": [
    "### <a id='c5'> Defining movement\n",
    "\n",
    "Determining the change in movement in time is a dynamic process, and we determine this using these formulae:\n",
    "\n",
    "$$\n",
    "\\dot{\\mathbf{u}}_i = \\frac{d\\mathbf{u}_i}{dt}(\\mathbf{u}_i, \\mathbf{u}_j) \\approx s_i \\, \\Omega \\,  \\delta t \\, \\Delta \\mathbf{u}_{i}^{\\text{norm}}(\\mathbf{u_i},\\mathbf{u}_j) \\quad \\forall i \\\\\n",
    "$$\n",
    "\n",
    "where $s_i$ is the base speed of the unit $i$, $\\Omega$ is a global parameter that could be attributed to terrain etc., $\\delta t$ is the change in time step (default to 1), unit $j$ is the target that unit $i$ wishes to draw towards, and where $\\Delta \\mathbf{u}_{i}^{\\text{norm}}(\\mathbf{u_i},\\mathbf{u}_j)$ is our normalized direction for unit $i$. In essense, this is simply the 'speed' of the unit multiplied by the negative direction of the opponent to move in that direction. Note that $ \\mathbf{u}_j$ doesn't have to be another Unit, but could be a waypoint for moving a Unit to a particular landmark or location."
   ]
  },
  {
   "cell_type": "code",
   "execution_count": 13,
   "metadata": {},
   "outputs": [],
   "source": [
    "u_i = np.array([10., 0.])\n",
    "u_j = np.array([0., 0.])\n",
    "u = np.vstack((u_i, u_j))"
   ]
  },
  {
   "cell_type": "code",
   "execution_count": 14,
   "metadata": {},
   "outputs": [],
   "source": [
    "dudt = lambda u_i, u_j, s_i: (s_i * 1. * 1. * deriv_norm(u_i, u_j))"
   ]
  },
  {
   "cell_type": "code",
   "execution_count": 15,
   "metadata": {},
   "outputs": [
    {
     "data": {
      "image/png": "[encoded data removed]",
      "text/plain": [
       "<Figure size 432x288 with 1 Axes>"
      ]
     },
     "metadata": {
      "needs_background": "light"
     },
     "output_type": "display_data"
    }
   ],
   "source": [
    "plt.scatter(u[:, 0], u[:, 1], marker='x')\n",
    "plt.show()"
   ]
  },
  {
   "cell_type": "markdown",
   "metadata": {},
   "source": [
    "Here we see that unit 1 wishes to increase 1 step in the $x$-direction:"
   ]
  },
  {
   "cell_type": "code",
   "execution_count": 16,
   "metadata": {},
   "outputs": [
    {
     "data": {
      "text/plain": [
       "array([-1.,  0.])"
      ]
     },
     "execution_count": 16,
     "metadata": {},
     "output_type": "execute_result"
    }
   ],
   "source": [
    "dudt(u_i, u_j, 1.)"
   ]
  },
  {
   "cell_type": "markdown",
   "metadata": {},
   "source": [
    "Whereas unit 2 wishes to decrease in the $x$-direction:"
   ]
  },
  {
   "cell_type": "code",
   "execution_count": 17,
   "metadata": {},
   "outputs": [
    {
     "data": {
      "text/plain": [
       "array([1., 0.])"
      ]
     },
     "execution_count": 17,
     "metadata": {},
     "output_type": "execute_result"
    }
   ],
   "source": [
    "dudt(u_j, u_i, 1.)"
   ]
  },
  {
   "cell_type": "code",
   "execution_count": 18,
   "metadata": {},
   "outputs": [],
   "source": [
    "du = np.vstack((dudt(u_i, u_j, 1.), dudt(u_j, u_i, 1.)))"
   ]
  },
  {
   "cell_type": "markdown",
   "metadata": {},
   "source": [
    "Thus we can plot the derivatives in addition to position to use a `quiverplot`:"
   ]
  },
  {
   "cell_type": "code",
   "execution_count": 19,
   "metadata": {},
   "outputs": [
    {
     "data": {
      "text/plain": [
       "<matplotlib.quiver.Quiver at 0x7f5d4e742410>"
      ]
     },
     "execution_count": 19,
     "metadata": {},
     "output_type": "execute_result"
    },
    {
     "data": {
      "image/png": "[encoded data removed]",
      "text/plain": [
       "<Figure size 432x288 with 1 Axes>"
      ]
     },
     "metadata": {
      "needs_background": "light"
     },
     "output_type": "display_data"
    }
   ],
   "source": [
    "plt.quiver(u[:,0], u[:, 1], du[:, 0], du[:, 1])"
   ]
  },
  {
   "cell_type": "markdown",
   "metadata": {},
   "source": [
    "### <a id='c6'> Defining the simulation\n",
    "\n",
    "And now we have at least 2 units, we're going to define our first *basic* simulation. The simulation will only end when:\n",
    "\n",
    "1. $t < T_{max}$, where $t$ is the timestep and $T_{max}$ is the maximum number of timesteps, set by the user.\n",
    "2. `running` becomes false. `running` can be set false in a number of ways, for instance, a unit has no target.\n",
    "\n",
    "We then define the simulation as follows:\n",
    "    \n",
    "    t = 0\n",
    "    while running and t < T_max:\n",
    "        iterate over all units (i):\n",
    "            if unit (i) hp > 0: <is alive>\n",
    "                if unit (i) target hp <= 0:\n",
    "                    <assign new target>\n",
    "                else:\n",
    "                    set directional derivative between unit (i) position and target (i) position\n",
    "                    calculate distances between unit (i) position and target (i) position\n",
    "                    if distance > unit (i) range:\n",
    "                        <move towards enemy unit>\n",
    "                    else:\n",
    "                        <perform hit/damage calculation to target>\n",
    "        t += 1"
   ]
  },
  {
   "cell_type": "code",
   "execution_count": 20,
   "metadata": {},
   "outputs": [],
   "source": [
    "def basic_simulation(units, max_step=100):\n",
    "    t = 0\n",
    "    running = True\n",
    "    \n",
    "    # while loop\n",
    "    while running and t < max_step:\n",
    "        # iterate over units.\n",
    "        for i, u in enumerate(units):\n",
    "            #if we're alive...\n",
    "            if u.hp > 0:\n",
    "                # euclidean distance\n",
    "                u.dd = -deriv_norm(u.pos, u.target.pos)\n",
    "                u.dist = euclidean(u.pos, u.target.pos)\n",
    "                # now, if the unit is not in range, then move towards it\n",
    "                if u.dist > u.range:\n",
    "                    # speed modifier added, others ignored from above.\n",
    "                    u.pos += dudt(u.pos, u.target.pos, u.speed)\n",
    "                else:\n",
    "                    # perform damage to enemy health.\n",
    "                    u.target.hp -= u.dmg\n",
    "        t += 1"
   ]
  },
  {
   "cell_type": "code",
   "execution_count": 21,
   "metadata": {},
   "outputs": [],
   "source": [
    "basic_simulation([u1, u2])"
   ]
  },
  {
   "cell_type": "markdown",
   "metadata": {},
   "source": [
    "We can see if we look at the HP of the units, unit 1 did considerably better; has 20 HP whereas unit 2 has negative 1516 HP!"
   ]
  },
  {
   "cell_type": "code",
   "execution_count": 22,
   "metadata": {},
   "outputs": [
    {
     "name": "stdout",
     "output_type": "stream",
     "text": [
      "20 -1516\n"
     ]
    }
   ],
   "source": [
    "print(u1.hp, u2.hp)"
   ]
  },
  {
   "cell_type": "markdown",
   "metadata": {},
   "source": [
    "## <a id='c7'> Post-simulation analysis\n",
    "\n",
    "In order to analyse what's going on properly, we're going to save what's happening in a list at *each time step*. Below is some modified code:"
   ]
  },
  {
   "cell_type": "code",
   "execution_count": 23,
   "metadata": {},
   "outputs": [],
   "source": [
    "from copy import deepcopy"
   ]
  },
  {
   "cell_type": "code",
   "execution_count": 24,
   "metadata": {},
   "outputs": [],
   "source": [
    "def basic_simulation2(units, max_step=50):\n",
    "    t = 0\n",
    "    running = True\n",
    "    \n",
    "    steps = []\n",
    "    \n",
    "    # while loop\n",
    "    while running and t < max_step:\n",
    "        # iterate over units.\n",
    "        for i, u in enumerate(units):\n",
    "            #if we're alive...\n",
    "            if u.hp > 0:\n",
    "                # euclidean distance\n",
    "                u.dd = deriv_norm(u.pos, u.target.pos)\n",
    "                u.dist = euclidean(u.pos, u.target.pos)\n",
    "                # now, if the unit is not in range, then move towards it\n",
    "                if u.dist > u.range:\n",
    "                    # speed modifier added, others ignored from above.\n",
    "                    u.pos += dudt(u.pos, u.target.pos, u.speed)\n",
    "                else:\n",
    "                    # perform damage to enemy health.\n",
    "                    u.target.hp -= u.dmg\n",
    "            \n",
    "            # save\n",
    "            steps.append(deepcopy(units))\n",
    "        t += 1\n",
    "    \n",
    "    return steps"
   ]
  },
  {
   "cell_type": "code",
   "execution_count": 25,
   "metadata": {},
   "outputs": [],
   "source": [
    "u1 = Unit(db_, \"Clone Trooper\")\n",
    "u1.pos = np.array([5., 5.])\n",
    "u2 = Unit(db_, \"B1 battledroid\")\n",
    "u1.target = u2\n",
    "u2.target = u1\n",
    "\n",
    "Res = basic_simulation2([u1, u2])"
   ]
  },
  {
   "cell_type": "markdown",
   "metadata": {},
   "source": [
    "#### HP of Unit 2 decreases beyond 0\n",
    "\n",
    "This is because we do not check whether the alive unit has any valid targets to find... so it keeps on subtracting the target it has."
   ]
  },
  {
   "cell_type": "code",
   "execution_count": 26,
   "metadata": {},
   "outputs": [],
   "source": [
    "HP1 = np.array([Res[i][0].hp for i in range(len(Res))])\n",
    "HP2 = np.array([Res[i][1].hp for i in range(len(Res))])"
   ]
  },
  {
   "cell_type": "code",
   "execution_count": 27,
   "metadata": {},
   "outputs": [
    {
     "data": {
      "image/png": "[encoded data removed]",
      "text/plain": [
       "<Figure size 432x288 with 1 Axes>"
      ]
     },
     "metadata": {
      "needs_background": "light"
     },
     "output_type": "display_data"
    }
   ],
   "source": [
    "plt.plot(HP1, 'x-')\n",
    "plt.plot(HP2, 'o-')\n",
    "plt.xlabel(\"time\")\n",
    "plt.ylabel(\"HP\")\n",
    "plt.show()"
   ]
  },
  {
   "cell_type": "markdown",
   "metadata": {},
   "source": [
    "### Scaling to 4 units (2 v 2)"
   ]
  },
  {
   "cell_type": "code",
   "execution_count": 28,
   "metadata": {},
   "outputs": [],
   "source": [
    "u1 = Unit(db_, \"Clone Trooper\")\n",
    "u2 = Unit(db_, \"B1 battledroid\")\n",
    "u3 = Unit(db_, \"Clone Trooper\")\n",
    "u4 = Unit(db_, \"B1 battledroid\")\n",
    "\n",
    "u1.pos = np.array([-5., 5.])\n",
    "u3.pos = np.array([5., 5.])\n",
    "\n",
    "u1.target = u2\n",
    "u3.target = u4\n",
    "u2.target = u1\n",
    "u4.target = u3\n",
    "\n",
    "Res = basic_simulation2([u1, u2, u3, u4])"
   ]
  },
  {
   "cell_type": "code",
   "execution_count": 29,
   "metadata": {},
   "outputs": [],
   "source": [
    "def extract_hp(Res, n_units, var=\"hp\"):\n",
    "    return np.vstack(([np.array([Res[i][j].hp for i in range(len(Res))]) for j in range(n_units)]))\n",
    "\n",
    "def extract_pos(Res, n_units):\n",
    "    return np.stack(([np.array([Res[i][j].pos for i in range(len(Res))]) for j in range(n_units)]), axis=2)\n",
    "\n",
    "def extract_dpos(Res, n_units):\n",
    "    return np.stack(([np.array([Res[i][j].dd for i in range(len(Res))]) for j in range(n_units)]), axis=2)"
   ]
  },
  {
   "cell_type": "markdown",
   "metadata": {},
   "source": [
    "Health points in the new group - it still appears HP drops for the B1 battledroids:"
   ]
  },
  {
   "cell_type": "code",
   "execution_count": 30,
   "metadata": {},
   "outputs": [],
   "source": [
    "HP = extract_hp(Res, 4)"
   ]
  },
  {
   "cell_type": "code",
   "execution_count": 31,
   "metadata": {},
   "outputs": [
    {
     "data": {
      "image/png": "[encoded data removed]",
      "text/plain": [
       "<Figure size 432x288 with 1 Axes>"
      ]
     },
     "metadata": {
      "needs_background": "light"
     },
     "output_type": "display_data"
    }
   ],
   "source": [
    "for i, x in enumerate(HP):\n",
    "    plt.plot(x, alpha=.5, label=\"unit%d\" % (i + 1))\n",
    "plt.legend()\n",
    "plt.xlabel(\"time\")\n",
    "plt.ylabel(\"HP\")\n",
    "plt.show()"
   ]
  },
  {
   "cell_type": "markdown",
   "metadata": {},
   "source": [
    "In terms of positioning, we see normal behavior - Units are moving towards their target, and when they are in range, they attack them."
   ]
  },
  {
   "cell_type": "code",
   "execution_count": 32,
   "metadata": {},
   "outputs": [],
   "source": [
    "pos = extract_pos(Res, 4)\n",
    "dd = extract_dpos(Res,4)"
   ]
  },
  {
   "cell_type": "code",
   "execution_count": 33,
   "metadata": {},
   "outputs": [
    {
     "data": {
      "image/png": "[encoded data removed]",
      "text/plain": [
       "<Figure size 432x288 with 1 Axes>"
      ]
     },
     "metadata": {
      "needs_background": "light"
     },
     "output_type": "display_data"
    }
   ],
   "source": [
    "for i in range(pos.shape[-1]):\n",
    "    plt.scatter(pos[:, 0, i], pos[:, 1, i], label=\"unit%d\" % (i+1))\n",
    "    plt.quiver(pos[:, 0, i], pos[:, 1, i], dd[:, 0, i], dd[:, 1, i])\n",
    "    \n",
    "plt.xlabel(\"x\")\n",
    "plt.ylabel(\"y\")\n",
    "plt.legend()\n",
    "plt.show()"
   ]
  },
  {
   "cell_type": "markdown",
   "metadata": {},
   "source": [
    "This marks the end of our **basics** to the simulation work. In our next notebook we're going to be making adjustments to our `Unit` class and simulation operating to solve some of the problems raise in this *naive* implementation."
   ]
  }
 ],
 "metadata": {
  "kernelspec": {
   "display_name": "Python 3",
   "language": "python",
   "name": "python3"
  },
  "language_info": {
   "codemirror_mode": {
    "name": "ipython",
    "version": 3
   },
   "file_extension": ".py",
   "mimetype": "text/x-python",
   "name": "python",
   "nbconvert_exporter": "python",
   "pygments_lexer": "ipython3",
   "version": "3.7.4"
  }
 },
 "nbformat": 4,
 "nbformat_minor": 2
}
