{
 "cells": [
  {
   "cell_type": "markdown",
   "metadata": {},
   "source": [
    "# Case Study: The Effect of *Rolling AI* choice on Win Rate\n",
    "\n",
    "Here we want to explore the effects of AI choice on the win rate for the different teams. We will be using the Clone Wars dataset for this.\n",
    "\n",
    "### Requirements:\n",
    "\n",
    "- `numpy`\n",
    "- `pandas`\n",
    "- `matplotlib`\n",
    "- `itertools`\n",
    "- `scipy.stats`\n",
    "- `numba`"
   ]
  },
  {
   "cell_type": "code",
   "execution_count": 2,
   "metadata": {},
   "outputs": [],
   "source": [
    "import sys\n",
    "# map path back to the directory above battlesim/\n",
    "sys.path.insert(0,\"../\")\n",
    "# our main import\n",
    "import battlesim as bsm\n",
    "\n",
    "from IPython.display import HTML\n",
    "%matplotlib inline"
   ]
  },
  {
   "cell_type": "markdown",
   "metadata": {},
   "source": [
    "## Defining Groups\n",
    "\n",
    "Each battle will have the following AI choices:\n",
    "\n",
    "1. All random\n",
    "2. All nearest\n",
    "3. All pack\n",
    "4. All strongest\n",
    "5. CIS random, Republic nearest\n",
    "6. CIS nearest, Republic random\n",
    "7. CIS pack, Republic random\n",
    "8. CIS random, Republic pack\n",
    "\n",
    "We will only affect the **rolling AI**, in all of the above cases we choose the *nearest AI* as an initial choice.\n",
    "\n",
    "In this study, only clone troopers and battledroids will be used to eliminate unit effects."
   ]
  },
  {
   "cell_type": "code",
   "execution_count": 4,
   "metadata": {},
   "outputs": [
    {
     "data": {
      "text/plain": [
       "['random', 'nearest', 'weakest', 'strongest', 'close_weak']"
      ]
     },
     "execution_count": 4,
     "metadata": {},
     "output_type": "execute_result"
    }
   ],
   "source": [
    "bsm.target.get_init_function_names()"
   ]
  },
  {
   "cell_type": "code",
   "execution_count": 10,
   "metadata": {},
   "outputs": [],
   "source": [
    "group_name = [\"all random\", \"all nearest\", \"all strongest\",\"cis random, rep nearest\", \n",
    "              \"cis nearest, rep random\", \"cis close weak, rep random\", \"cis random, rep close weak\"]\n",
    "\n",
    "group_ai = [(\"random\",\"random\"),(\"nearest\",\"nearest\"),(\"strongest\",\"strongest\"),\n",
    "            (\"random\",\"nearest\"),(\"nearest\",\"random\"),(\"close_weak\",\"random\"),(\"random\",\"close_weak\")]\n",
    "\n",
    "army_set = [(\"clone trooper\", 75), (\"b1 battledroid\", 250)]\n",
    "pos = [bsm.Distribution(\"gaussian\",loc=0,scale=2), bsm.Distribution(\"gaussian\",loc=10,scale=2)]\n",
    "\n",
    "battles = [(bsm.Battle(\"../datasets/starwars-clonewars.csv\")\n",
    "               .create_army(army_set)\n",
    "               .set_initial_ai([\"nearest\"]*2)\n",
    "               .set_rolling_ai(ai_group)\n",
    "               .apply_position(pos))\n",
    "           for ai_group in group_ai]"
   ]
  },
  {
   "cell_type": "markdown",
   "metadata": {},
   "source": [
    "## Run $k$ simulations for each battle group.\n",
    "\n",
    "$k=50$ seems reasonable."
   ]
  },
  {
   "cell_type": "code",
   "execution_count": 11,
   "metadata": {},
   "outputs": [],
   "source": [
    "import numpy as np\n",
    "import pandas as pd\n",
    "import matplotlib.pyplot as plt"
   ]
  },
  {
   "cell_type": "code",
   "execution_count": 12,
   "metadata": {},
   "outputs": [],
   "source": [
    "k = 50\n",
    "test_id = np.repeat(np.arange(len(group_name)),k)\n",
    "# simulate\n",
    "Test1 = [battle.simulate_k(k) for battle in battles]"
   ]
  },
  {
   "cell_type": "code",
   "execution_count": 13,
   "metadata": {},
   "outputs": [],
   "source": [
    "Test_Results = pd.concat(Test1,axis=0).assign(Sim=test_id)"
   ]
  },
  {
   "cell_type": "markdown",
   "metadata": {},
   "source": [
    "## Results:\n",
    "\n",
    "As we can see, the choice of AI program drastically changes the result outcome distribution for given $k$, especially when the Republic and CIS have **different** AI choices."
   ]
  },
  {
   "cell_type": "code",
   "execution_count": 14,
   "metadata": {},
   "outputs": [
    {
     "data": {
      "image/png": "[encoded data removed]",
      "text/plain": [
       "<Figure size 1800x288 with 7 Axes>"
      ]
     },
     "metadata": {
      "needs_background": "light"
     },
     "output_type": "display_data"
    }
   ],
   "source": [
    "fig, ax = plt.subplots(ncols=len(group_name), figsize=(25,4))\n",
    "nbins = 20\n",
    "for a, name, id_t in zip(ax, group_name, np.arange(len(group_name))):\n",
    "    xaxis = np.linspace(0,1,nbins)\n",
    "    height_rep, _ = np.histogram(Test_Results.query(\"Sim==@id_t\")[\"Republic\"] / 75., bins=xaxis)\n",
    "    height_cis, _ = np.histogram(Test_Results.query(\"Sim==@id_t\")[\"CIS\"] / 300., bins=xaxis)\n",
    "    a.bar(xaxis[:-1],height_rep, color=\"red\", alpha=.3, width=1./nbins, align=\"edge\")\n",
    "    a.bar(xaxis[:-1],height_cis, color=\"blue\", alpha=.3, width=1./nbins, align=\"edge\")\n",
    "    a.set_xlabel(\"% alive\")\n",
    "    a.set_title(name)"
   ]
  },
  {
   "cell_type": "code",
   "execution_count": null,
   "metadata": {},
   "outputs": [],
   "source": []
  }
 ],
 "metadata": {
  "kernelspec": {
   "display_name": "Python 3",
   "language": "python",
   "name": "python3"
  },
  "language_info": {
   "codemirror_mode": {
    "name": "ipython",
    "version": 3
   },
   "file_extension": ".py",
   "mimetype": "text/x-python",
   "name": "python",
   "nbconvert_exporter": "python",
   "pygments_lexer": "ipython3",
   "version": "3.7.4"
  }
 },
 "nbformat": 4,
 "nbformat_minor": 2
}
