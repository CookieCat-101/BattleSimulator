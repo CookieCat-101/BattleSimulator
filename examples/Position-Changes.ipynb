{
 "cells": [
  {
   "cell_type": "markdown",
   "metadata": {},
   "source": [
    "# Position Changes\n",
    "\n",
    "In `battlesim` we can allocate positions to each army set using the `set_position` function within a `Battle` object created.\n",
    "\n",
    "```python\n",
    "import battlesim as bsm\n",
    "\n",
    "trial = bsm.Battle(<datafile>)\n",
    "trial.create_army([(\"B1 battledroid\",10)])\n",
    "trial.apply_position([bsm.Distribution(\"gaussian\",loc=0, scale=1)])\n",
    "```\n",
    "\n",
    "Instead we wish to create a convenience method of creating distribution objects without needing to explicitly create it."
   ]
  },
  {
   "cell_type": "code",
   "execution_count": 1,
   "metadata": {},
   "outputs": [],
   "source": [
    "import sys\n",
    "sys.path.insert(0,\"../\")"
   ]
  },
  {
   "cell_type": "code",
   "execution_count": 2,
   "metadata": {},
   "outputs": [],
   "source": [
    "import battlesim as bsm"
   ]
  },
  {
   "cell_type": "code",
   "execution_count": 3,
   "metadata": {},
   "outputs": [
    {
     "data": {
      "text/plain": [
       "battlesim.distributions.Distribution"
      ]
     },
     "execution_count": 3,
     "metadata": {},
     "output_type": "execute_result"
    }
   ],
   "source": [
    "bsm.distributions.Distribution"
   ]
  },
  {
   "cell_type": "code",
   "execution_count": 4,
   "metadata": {},
   "outputs": [],
   "source": [
    "trial = bsm.Battle(\"../datasets/starwars-clonewars.csv\")"
   ]
  },
  {
   "cell_type": "code",
   "execution_count": 5,
   "metadata": {},
   "outputs": [
    {
     "data": {
      "text/plain": [
       "<battlesim.battle.Battle at 0x7f5b94f28350>"
      ]
     },
     "execution_count": 5,
     "metadata": {},
     "output_type": "execute_result"
    }
   ],
   "source": [
    "trial.create_army([(\"B1 battledroid\",5), (\"Clone Trooper\",5)])"
   ]
  },
  {
   "cell_type": "markdown",
   "metadata": {},
   "source": [
    "## Choice of Input\n",
    "\n",
    "We have a few options; we can create `bsm.Distribtion` objects:\n",
    "\n",
    "```python\n",
    "dists = [bsm.Distribution(\"normal\") for i in range(2)]\n",
    "trial.apply_position(dists)\n",
    "```\n",
    "\n",
    "Or, if we set them all to stack on each other, we can simply specify a `str` or `bsm.Distribution` object\n",
    "\n",
    "```python\n",
    "trial.apply_position(\"normal\")\n",
    "```\n",
    "\n",
    "```python\n",
    "trial.apply_position(bsm.Distribution(\"normal\",loc=1.))\n",
    "```\n",
    "\n",
    "Finally, we can specify a list of dictionaries to refer to each army group:\n",
    "\n",
    "```python\n",
    "trial.apply_position([\n",
    "    {\"name\":\"gaussian\", \"x_loc\":0., \"y_loc\": 5.},\n",
    "    {\"dist\":\"beta\", \"x_var\":2., \"x_loc\": 5., \"y_loc\": 5., \"y_std\": 3.}\n",
    "])\n",
    "```"
   ]
  },
  {
   "cell_type": "code",
   "execution_count": 6,
   "metadata": {},
   "outputs": [
    {
     "data": {
      "text/plain": [
       "[('b1 battledroid', 5), ('clone trooper', 5)]"
      ]
     },
     "execution_count": 6,
     "metadata": {},
     "output_type": "execute_result"
    }
   ],
   "source": [
    "trial.army_set_"
   ]
  },
  {
   "cell_type": "code",
   "execution_count": 9,
   "metadata": {},
   "outputs": [
    {
     "data": {
      "text/plain": [
       "<battlesim.battle.Battle at 0x7f5b94f28350>"
      ]
     },
     "execution_count": 9,
     "metadata": {},
     "output_type": "execute_result"
    }
   ],
   "source": [
    "trial.apply_position([\n",
    "    {\"name\":\"gaussian\",\"x_loc\":0., \"y_loc\":1.},\n",
    "    {\"name\":\"gaussian\",\"x_loc\":10., \"y_loc\":10.}\n",
    "])"
   ]
  },
  {
   "cell_type": "code",
   "execution_count": 13,
   "metadata": {},
   "outputs": [
    {
     "data": {
      "text/plain": [
       "array([[-1.34874997,  0.90318223],\n",
       "       [-0.72709037,  1.54944327],\n",
       "       [-1.1890806 ,  0.97802089],\n",
       "       [-0.01222299,  0.12172359],\n",
       "       [ 1.11226403,  1.19484853],\n",
       "       [ 9.89046321,  9.23333457],\n",
       "       [ 9.32696775,  9.63337434],\n",
       "       [11.23754928, 10.663489  ],\n",
       "       [11.06939364,  9.74071751],\n",
       "       [11.0285337 , 10.85623324]])"
      ]
     },
     "execution_count": 13,
     "metadata": {},
     "output_type": "execute_result"
    }
   ],
   "source": [
    "trial.M_[\"pos\"]"
   ]
  }
 ],
 "metadata": {
  "kernelspec": {
   "display_name": "Python 3",
   "language": "python",
   "name": "python3"
  },
  "language_info": {
   "codemirror_mode": {
    "name": "ipython",
    "version": 3
   },
   "file_extension": ".py",
   "mimetype": "text/x-python",
   "name": "python",
   "nbconvert_exporter": "python",
   "pygments_lexer": "ipython3",
   "version": "3.7.4"
  }
 },
 "nbformat": 4,
 "nbformat_minor": 2
}
